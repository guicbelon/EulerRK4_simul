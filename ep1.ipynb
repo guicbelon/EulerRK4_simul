{
 "cells": [
  {
   "cell_type": "code",
   "execution_count": 2,
   "metadata": {},
   "outputs": [],
   "source": [
    "import numpy as np\n",
    "import matplotlib.pyplot as plt\n",
    "\n",
    "from meccomp_lib import *"
   ]
  },
  {
   "cell_type": "code",
   "execution_count": null,
   "metadata": {},
   "outputs": [],
   "source": []
  },
  {
   "attachments": {
    "image.png": {
     "image/png": "[encoded data removed]"
    }
   },
   "cell_type": "markdown",
   "metadata": {},
   "source": [
    "\n",
    "![image.png](attachment:image.png)"
   ]
  },
  {
   "cell_type": "code",
   "execution_count": 2,
   "metadata": {},
   "outputs": [],
   "source": []
  },
  {
   "cell_type": "code",
   "execution_count": 8,
   "metadata": {},
   "outputs": [
    {
     "data": {
      "text/plain": [
       "<bound method RK4.simul of <__main__.RK4 object at 0x00000219586F5C10>>"
      ]
     },
     "execution_count": 8,
     "metadata": {},
     "output_type": "execute_result"
    }
   ],
   "source": [
    "class RK4:\n",
    "    def __init__(self, step:float=0.05, n_steps:int = 1000):\n",
    "        self.step = step\n",
    "        self.n_steps = n_steps\n",
    "        self.system = System(step=step)\n",
    "        \n",
    "    def simul(self):\n",
    "        self.system.reset()\n",
    "        for time_step in range(self.n_steps):\n",
    "            current_state = self.system.get_current_state()\n",
    "            theta_1 = current_state['theta_1']\n",
    "            theta_1_dot = current_state['theta_1_dot']\n",
    "            next_theta_1 = theta_1 + self.step*theta_1_dot\n",
    "            next_theta_1_dot_dot = self.system.theta_1_dot_dot(**current_state)\n",
    "            next_theta_1_dot = theta_1_dot + self.step*next_theta_1_dot_dot\n",
    "            \n",
    "            theta_2 = current_state['theta_2']\n",
    "            theta_2_dot = current_state['theta_2_dot']\n",
    "            next_theta_2 = theta_2 + self.step*theta_2_dot\n",
    "            next_theta_2_dot_dot = self.system.theta_2_dot_dot(**current_state)\n",
    "            next_theta_2_dot = theta_2_dot + self.step*next_theta_2_dot_dot\n",
    "            \n",
    "            next_state =[next_theta_1, next_theta_1_dot, next_theta_1_dot_dot, \n",
    "                         next_theta_2, next_theta_2_dot, next_theta_2_dot_dot]\n",
    "            self.system.insert_state(next_state)\n",
    "            \n",
    "    def plot_results(self):        \n",
    "        time_vector = np.arange(0, self.step*(self.n_steps+1), self.step)\n",
    "        scalar_states = self.system.retrieve_scalar_states()\n",
    "        scalar_states = np.array(scalar_states).reshape(self.n_steps+1,12)\n",
    "        x_1_pos = scalar_states[:,0]\n",
    "        y_1_pos = scalar_states[:,1]\n",
    "        x_1_dot = scalar_states[:,2]\n",
    "        y_1_dot = scalar_states[:,3]\n",
    "        x_1_dot_dot = scalar_states[:,4]\n",
    "        y_1_dot_dot = scalar_states[:,5]\n",
    "        x_2_pos = scalar_states[:,6]\n",
    "        y_2_pos = scalar_states[:,7]\n",
    "        x_2_dot = scalar_states[:,8]\n",
    "        y_2_dot = scalar_states[:,9]\n",
    "        x_2_dot_dot = scalar_states[:,10]\n",
    "        y_2_dot_dot = scalar_states[:,11]\n",
    "        \n",
    "        fig, axs = plt.subplots(6, 2, figsize=(10, 20))\n",
    "        \n",
    "        axs[0, 0].plot(time_vector, x_1_pos)\n",
    "        axs[0, 0].set_title(f'Position in x of mass 1')\n",
    "        axs[0, 1].plot(time_vector, y_1_pos)\n",
    "        axs[0, 1].set_title(f'Position in y of mass 1')\n",
    "        axs[1, 0].plot(time_vector, x_1_dot)\n",
    "        axs[1, 0].set_title(f'Velocity in x of mass 1')\n",
    "        axs[1, 1].plot(time_vector, y_1_dot)\n",
    "        axs[1, 1].set_title(f'Velocity in y of mass 1')\n",
    "        axs[2, 0].plot(time_vector, x_1_dot_dot)\n",
    "        axs[2, 0].set_title(f'Aceleration in x of mass 1')\n",
    "        axs[2, 1].plot(time_vector, y_1_dot_dot)\n",
    "        axs[2, 1].set_title(f'Acceleration in y of mass 1')\n",
    "        axs[3, 0].plot(time_vector, x_2_pos)\n",
    "        axs[3, 0].set_title(f'Position in x of mass 2')\n",
    "        axs[3, 1].plot(time_vector, y_2_pos)\n",
    "        axs[3, 1].set_title(f'Position in y of mass 2')\n",
    "        axs[4, 0].plot(time_vector, x_2_dot)\n",
    "        axs[4, 0].set_title(f'Velocity in x of mass 2')\n",
    "        axs[4, 1].plot(time_vector, y_2_dot)\n",
    "        axs[4, 1].set_title(f'Velocity in y of mass 2')\n",
    "        axs[5, 0].plot(time_vector, x_2_dot_dot)\n",
    "        axs[5, 0].set_title(f'Aceleration in x of mass 2')\n",
    "        axs[5, 1].plot(time_vector, y_2_dot_dot)\n",
    "        axs[5, 1].set_title(f'Acceleration in y of mass 2')\n",
    "        plt.tight_layout()\n",
    "        plt.show()\n",
    "\n",
    "        \n",
    "rk = RK4()\n",
    "\n",
    "rk.simul()"
   ]
  },
  {
   "cell_type": "code",
   "execution_count": 7,
   "metadata": {},
   "outputs": [],
   "source": [
    "def simul(self):\n",
    "    self.system.reset()\n",
    "    for time_step in range(self.n_steps):\n",
    "        current_state = self.system.get_current_state()\n",
    "        theta_1 = current_state['theta_1']\n",
    "        theta_1_dot = current_state['theta_1_dot']\n",
    "        next_theta_1 = theta_1 + self.step*theta_1_dot\n",
    "        next_theta_1_dot_dot = self.system.theta_1_dot_dot(**current_state)\n",
    "        next_theta_1_dot = theta_1_dot + self.step*next_theta_1_dot_dot\n",
    "        \n",
    "        theta_2 = current_state['theta_2']\n",
    "        theta_2_dot = current_state['theta_2_dot']\n",
    "        next_theta_2 = theta_2 + self.step*theta_2_dot\n",
    "        next_theta_2_dot_dot = self.system.theta_2_dot_dot(**current_state)\n",
    "        next_theta_2_dot = theta_2_dot + self.step*next_theta_2_dot_dot\n",
    "        \n",
    "        next_state =[next_theta_1, next_theta_1_dot, next_theta_1_dot_dot, \n",
    "                        next_theta_2, next_theta_2_dot, next_theta_2_dot_dot]\n",
    "        self.system.insert_state(next_state)\n",
    "        \n",
    "simul(rk)\n",
    "            "
   ]
  }
 ],
 "metadata": {
  "kernelspec": {
   "display_name": "Python 3",
   "language": "python",
   "name": "python3"
  },
  "language_info": {
   "codemirror_mode": {
    "name": "ipython",
    "version": 3
   },
   "file_extension": ".py",
   "mimetype": "text/x-python",
   "name": "python",
   "nbconvert_exporter": "python",
   "pygments_lexer": "ipython3",
   "version": "3.9.13"
  }
 },
 "nbformat": 4,
 "nbformat_minor": 2
}
